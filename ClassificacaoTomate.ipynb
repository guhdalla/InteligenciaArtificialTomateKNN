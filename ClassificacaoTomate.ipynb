{
 "cells": [
  {
   "cell_type": "code",
   "execution_count": 61,
   "id": "f6e634f6",
   "metadata": {},
   "outputs": [],
   "source": [
    "# Inicializção das bibliotecas\n",
    "%matplotlib inline\n",
    "\n",
    "import pandas as pd\n",
    "import matplotlib.pyplot as plt"
   ]
  },
  {
   "cell_type": "markdown",
   "id": "16db0680",
   "metadata": {},
   "source": [
    "# Lendo o Dataset"
   ]
  },
  {
   "cell_type": "code",
   "execution_count": 62,
   "id": "54fb7fb2",
   "metadata": {},
   "outputs": [],
   "source": [
    "diretorio = \"dataset_tomate.csv\"\n",
    "\n",
    "df = pd.read_csv(diretorio)\n"
   ]
  },
  {
   "cell_type": "markdown",
   "id": "64d44d4b",
   "metadata": {},
   "source": [
    "# Conhecendo os dados"
   ]
  },
  {
   "cell_type": "code",
   "execution_count": 63,
   "id": "2b4184a0",
   "metadata": {},
   "outputs": [
    {
     "data": {
      "text/html": [
       "<div>\n",
       "<style scoped>\n",
       "    .dataframe tbody tr th:only-of-type {\n",
       "        vertical-align: middle;\n",
       "    }\n",
       "\n",
       "    .dataframe tbody tr th {\n",
       "        vertical-align: top;\n",
       "    }\n",
       "\n",
       "    .dataframe thead th {\n",
       "        text-align: right;\n",
       "    }\n",
       "</style>\n",
       "<table border=\"1\" class=\"dataframe\">\n",
       "  <thead>\n",
       "    <tr style=\"text-align: right;\">\n",
       "      <th></th>\n",
       "      <th>id</th>\n",
       "      <th>trat</th>\n",
       "      <th>NDVI_d28</th>\n",
       "      <th>SAVI_d28</th>\n",
       "      <th>GNDVI_d28</th>\n",
       "      <th>MCARI1_d28</th>\n",
       "      <th>SR_d28</th>\n",
       "      <th>NDVI_d01</th>\n",
       "      <th>SAVI_d01</th>\n",
       "      <th>GNDVI_d01</th>\n",
       "      <th>...</th>\n",
       "      <th>SAVI_d04</th>\n",
       "      <th>GNDVI_d04</th>\n",
       "      <th>MCARI1_d04</th>\n",
       "      <th>SR_d04</th>\n",
       "      <th>NDVI_d08</th>\n",
       "      <th>SAVI_d08</th>\n",
       "      <th>GNDVI_d08</th>\n",
       "      <th>MCARI1_d08</th>\n",
       "      <th>SR_d08</th>\n",
       "      <th>Classe</th>\n",
       "    </tr>\n",
       "  </thead>\n",
       "  <tbody>\n",
       "    <tr>\n",
       "      <th>0</th>\n",
       "      <td>1</td>\n",
       "      <td>102</td>\n",
       "      <td>0.798284</td>\n",
       "      <td>1.197380</td>\n",
       "      <td>0.692652</td>\n",
       "      <td>16710.29721</td>\n",
       "      <td>9.728142</td>\n",
       "      <td>0.729767</td>\n",
       "      <td>1.094620</td>\n",
       "      <td>0.698726</td>\n",
       "      <td>...</td>\n",
       "      <td>1.069718</td>\n",
       "      <td>0.662425</td>\n",
       "      <td>13090.11459</td>\n",
       "      <td>6.216968</td>\n",
       "      <td>0.684125</td>\n",
       "      <td>1.026146</td>\n",
       "      <td>0.636865</td>\n",
       "      <td>13352.81776</td>\n",
       "      <td>5.421333</td>\n",
       "      <td>1</td>\n",
       "    </tr>\n",
       "    <tr>\n",
       "      <th>1</th>\n",
       "      <td>2</td>\n",
       "      <td>11</td>\n",
       "      <td>0.806955</td>\n",
       "      <td>1.210392</td>\n",
       "      <td>0.705323</td>\n",
       "      <td>19513.85630</td>\n",
       "      <td>10.557411</td>\n",
       "      <td>0.774359</td>\n",
       "      <td>1.161514</td>\n",
       "      <td>0.717367</td>\n",
       "      <td>...</td>\n",
       "      <td>1.166604</td>\n",
       "      <td>0.680269</td>\n",
       "      <td>22731.09954</td>\n",
       "      <td>8.380453</td>\n",
       "      <td>0.725521</td>\n",
       "      <td>1.088240</td>\n",
       "      <td>0.669113</td>\n",
       "      <td>16190.82038</td>\n",
       "      <td>6.491860</td>\n",
       "      <td>0</td>\n",
       "    </tr>\n",
       "    <tr>\n",
       "      <th>2</th>\n",
       "      <td>3</td>\n",
       "      <td>103</td>\n",
       "      <td>0.825104</td>\n",
       "      <td>1.237610</td>\n",
       "      <td>0.708468</td>\n",
       "      <td>18074.06986</td>\n",
       "      <td>11.141408</td>\n",
       "      <td>0.786941</td>\n",
       "      <td>1.180385</td>\n",
       "      <td>0.730471</td>\n",
       "      <td>...</td>\n",
       "      <td>1.096008</td>\n",
       "      <td>0.680238</td>\n",
       "      <td>12330.21702</td>\n",
       "      <td>6.670915</td>\n",
       "      <td>0.728171</td>\n",
       "      <td>1.092214</td>\n",
       "      <td>0.655206</td>\n",
       "      <td>15313.16198</td>\n",
       "      <td>6.551268</td>\n",
       "      <td>1</td>\n",
       "    </tr>\n",
       "    <tr>\n",
       "      <th>3</th>\n",
       "      <td>4</td>\n",
       "      <td>112</td>\n",
       "      <td>0.788884</td>\n",
       "      <td>1.183279</td>\n",
       "      <td>0.664787</td>\n",
       "      <td>16226.23017</td>\n",
       "      <td>8.990752</td>\n",
       "      <td>0.743874</td>\n",
       "      <td>1.115782</td>\n",
       "      <td>0.690141</td>\n",
       "      <td>...</td>\n",
       "      <td>1.061948</td>\n",
       "      <td>0.644786</td>\n",
       "      <td>12085.07787</td>\n",
       "      <td>6.017714</td>\n",
       "      <td>0.728161</td>\n",
       "      <td>1.092201</td>\n",
       "      <td>0.640739</td>\n",
       "      <td>16562.17418</td>\n",
       "      <td>6.608121</td>\n",
       "      <td>1</td>\n",
       "    </tr>\n",
       "    <tr>\n",
       "      <th>4</th>\n",
       "      <td>5</td>\n",
       "      <td>114</td>\n",
       "      <td>0.764986</td>\n",
       "      <td>1.147432</td>\n",
       "      <td>0.673490</td>\n",
       "      <td>14920.80711</td>\n",
       "      <td>8.269806</td>\n",
       "      <td>0.715948</td>\n",
       "      <td>1.073894</td>\n",
       "      <td>0.695619</td>\n",
       "      <td>...</td>\n",
       "      <td>1.032176</td>\n",
       "      <td>0.660206</td>\n",
       "      <td>10053.17885</td>\n",
       "      <td>5.571702</td>\n",
       "      <td>0.694320</td>\n",
       "      <td>1.041437</td>\n",
       "      <td>0.642373</td>\n",
       "      <td>13760.95583</td>\n",
       "      <td>5.665567</td>\n",
       "      <td>1</td>\n",
       "    </tr>\n",
       "  </tbody>\n",
       "</table>\n",
       "<p>5 rows × 23 columns</p>\n",
       "</div>"
      ],
      "text/plain": [
       "   id  trat  NDVI_d28  SAVI_d28  GNDVI_d28   MCARI1_d28     SR_d28  NDVI_d01  \\\n",
       "0   1   102  0.798284  1.197380   0.692652  16710.29721   9.728142  0.729767   \n",
       "1   2    11  0.806955  1.210392   0.705323  19513.85630  10.557411  0.774359   \n",
       "2   3   103  0.825104  1.237610   0.708468  18074.06986  11.141408  0.786941   \n",
       "3   4   112  0.788884  1.183279   0.664787  16226.23017   8.990752  0.743874   \n",
       "4   5   114  0.764986  1.147432   0.673490  14920.80711   8.269806  0.715948   \n",
       "\n",
       "   SAVI_d01  GNDVI_d01  ...  SAVI_d04  GNDVI_d04   MCARI1_d04    SR_d04  \\\n",
       "0  1.094620   0.698726  ...  1.069718   0.662425  13090.11459  6.216968   \n",
       "1  1.161514   0.717367  ...  1.166604   0.680269  22731.09954  8.380453   \n",
       "2  1.180385   0.730471  ...  1.096008   0.680238  12330.21702  6.670915   \n",
       "3  1.115782   0.690141  ...  1.061948   0.644786  12085.07787  6.017714   \n",
       "4  1.073894   0.695619  ...  1.032176   0.660206  10053.17885  5.571702   \n",
       "\n",
       "   NDVI_d08  SAVI_d08  GNDVI_d08   MCARI1_d08    SR_d08  Classe  \n",
       "0  0.684125  1.026146   0.636865  13352.81776  5.421333       1  \n",
       "1  0.725521  1.088240   0.669113  16190.82038  6.491860       0  \n",
       "2  0.728171  1.092214   0.655206  15313.16198  6.551268       1  \n",
       "3  0.728161  1.092201   0.640739  16562.17418  6.608121       1  \n",
       "4  0.694320  1.041437   0.642373  13760.95583  5.665567       1  \n",
       "\n",
       "[5 rows x 23 columns]"
      ]
     },
     "execution_count": 63,
     "metadata": {},
     "output_type": "execute_result"
    }
   ],
   "source": [
    "df.head()"
   ]
  },
  {
   "cell_type": "code",
   "execution_count": 64,
   "id": "3776651b",
   "metadata": {},
   "outputs": [
    {
     "name": "stdout",
     "output_type": "stream",
     "text": [
      "<class 'pandas.core.frame.DataFrame'>\n",
      "RangeIndex: 132 entries, 0 to 131\n",
      "Data columns (total 23 columns):\n",
      " #   Column      Non-Null Count  Dtype  \n",
      "---  ------      --------------  -----  \n",
      " 0   id          132 non-null    int64  \n",
      " 1   trat        132 non-null    int64  \n",
      " 2   NDVI_d28    132 non-null    float64\n",
      " 3   SAVI_d28    132 non-null    float64\n",
      " 4   GNDVI_d28   132 non-null    float64\n",
      " 5   MCARI1_d28  132 non-null    float64\n",
      " 6   SR_d28      132 non-null    float64\n",
      " 7   NDVI_d01    132 non-null    float64\n",
      " 8   SAVI_d01    132 non-null    float64\n",
      " 9   GNDVI_d01   132 non-null    float64\n",
      " 10  MCARI1_d01  132 non-null    float64\n",
      " 11  SR_d01      132 non-null    float64\n",
      " 12  NDVI_d04    132 non-null    float64\n",
      " 13  SAVI_d04    132 non-null    float64\n",
      " 14  GNDVI_d04   132 non-null    float64\n",
      " 15  MCARI1_d04  132 non-null    float64\n",
      " 16  SR_d04      132 non-null    float64\n",
      " 17  NDVI_d08    132 non-null    float64\n",
      " 18  SAVI_d08    132 non-null    float64\n",
      " 19  GNDVI_d08   132 non-null    float64\n",
      " 20  MCARI1_d08  132 non-null    float64\n",
      " 21  SR_d08      132 non-null    float64\n",
      " 22  Classe      132 non-null    int64  \n",
      "dtypes: float64(20), int64(3)\n",
      "memory usage: 23.8 KB\n"
     ]
    }
   ],
   "source": [
    "df.info()"
   ]
  },
  {
   "cell_type": "code",
   "execution_count": 65,
   "id": "ecb32e19",
   "metadata": {},
   "outputs": [
    {
     "name": "stdout",
     "output_type": "stream",
     "text": [
      "Classe\n",
      "0    41\n",
      "1    91\n",
      "dtype: int64\n"
     ]
    }
   ],
   "source": [
    "print(df.groupby('Classe').size())"
   ]
  },
  {
   "cell_type": "markdown",
   "id": "6daf7c07",
   "metadata": {},
   "source": [
    "# Dividindo os dados em conjunto de treinamento e de testes"
   ]
  },
  {
   "cell_type": "code",
   "execution_count": 66,
   "id": "57592ff7",
   "metadata": {},
   "outputs": [
    {
     "name": "stdout",
     "output_type": "stream",
     "text": [
      "Formato das tabelas de dados (132, 21) e classes (132,)\n"
     ]
    }
   ],
   "source": [
    "# Selecionando um sub-dataframe, \n",
    "# e outro com a variável de classes\n",
    "entradas = df[['trat', 'NDVI_d28', 'SAVI_d28', 'GNDVI_d28', 'MCARI1_d28', 'SR_d28', 'NDVI_d01', \n",
    "               'SAVI_d01', 'GNDVI_d01', 'MCARI1_d01', 'SR_d01', 'NDVI_d04', 'SAVI_d04', 'GNDVI_d04',\n",
    "              'MCARI1_d04', 'SR_d04', 'NDVI_d08', 'SAVI_d08', 'GNDVI_d08', 'MCARI1_d08', 'SR_d08']]\n",
    "classes = df['Classe']\n",
    "print(f\"Formato das tabelas de dados {entradas.shape} e classes {classes.shape}\")"
   ]
  },
  {
   "cell_type": "code",
   "execution_count": 67,
   "id": "39b53132",
   "metadata": {},
   "outputs": [
    {
     "name": "stdout",
     "output_type": "stream",
     "text": [
      "Formato das tabelas de dados de treino (105, 21) e teste (27, 21)\n"
     ]
    }
   ],
   "source": [
    "from sklearn.model_selection import train_test_split\n",
    "\n",
    "entradas_treino, entradas_teste, classes_treino, classes_teste = train_test_split(entradas, classes, test_size=0.2)\n",
    "\n",
    "print(f\"Formato das tabelas de dados de treino {entradas_treino.shape} e teste {entradas_teste.shape}\")"
   ]
  },
  {
   "cell_type": "code",
   "execution_count": 68,
   "id": "ddcec9fa",
   "metadata": {},
   "outputs": [
    {
     "data": {
      "text/html": [
       "<div>\n",
       "<style scoped>\n",
       "    .dataframe tbody tr th:only-of-type {\n",
       "        vertical-align: middle;\n",
       "    }\n",
       "\n",
       "    .dataframe tbody tr th {\n",
       "        vertical-align: top;\n",
       "    }\n",
       "\n",
       "    .dataframe thead th {\n",
       "        text-align: right;\n",
       "    }\n",
       "</style>\n",
       "<table border=\"1\" class=\"dataframe\">\n",
       "  <thead>\n",
       "    <tr style=\"text-align: right;\">\n",
       "      <th></th>\n",
       "      <th>trat</th>\n",
       "      <th>NDVI_d28</th>\n",
       "      <th>SAVI_d28</th>\n",
       "      <th>GNDVI_d28</th>\n",
       "      <th>MCARI1_d28</th>\n",
       "      <th>SR_d28</th>\n",
       "      <th>NDVI_d01</th>\n",
       "      <th>SAVI_d01</th>\n",
       "      <th>GNDVI_d01</th>\n",
       "      <th>MCARI1_d01</th>\n",
       "      <th>...</th>\n",
       "      <th>NDVI_d04</th>\n",
       "      <th>SAVI_d04</th>\n",
       "      <th>GNDVI_d04</th>\n",
       "      <th>MCARI1_d04</th>\n",
       "      <th>SR_d04</th>\n",
       "      <th>NDVI_d08</th>\n",
       "      <th>SAVI_d08</th>\n",
       "      <th>GNDVI_d08</th>\n",
       "      <th>MCARI1_d08</th>\n",
       "      <th>SR_d08</th>\n",
       "    </tr>\n",
       "  </thead>\n",
       "  <tbody>\n",
       "    <tr>\n",
       "      <th>0</th>\n",
       "      <td>102</td>\n",
       "      <td>0.798284</td>\n",
       "      <td>1.197380</td>\n",
       "      <td>0.692652</td>\n",
       "      <td>16710.29721</td>\n",
       "      <td>9.728142</td>\n",
       "      <td>0.729767</td>\n",
       "      <td>1.094620</td>\n",
       "      <td>0.698726</td>\n",
       "      <td>21499.94698</td>\n",
       "      <td>...</td>\n",
       "      <td>0.713179</td>\n",
       "      <td>1.069718</td>\n",
       "      <td>0.662425</td>\n",
       "      <td>13090.114590</td>\n",
       "      <td>6.216968</td>\n",
       "      <td>0.684125</td>\n",
       "      <td>1.026146</td>\n",
       "      <td>0.636865</td>\n",
       "      <td>13352.81776</td>\n",
       "      <td>5.421333</td>\n",
       "    </tr>\n",
       "    <tr>\n",
       "      <th>127</th>\n",
       "      <td>82</td>\n",
       "      <td>0.750210</td>\n",
       "      <td>1.125268</td>\n",
       "      <td>0.644542</td>\n",
       "      <td>14328.38849</td>\n",
       "      <td>7.591731</td>\n",
       "      <td>0.707780</td>\n",
       "      <td>1.061642</td>\n",
       "      <td>0.668688</td>\n",
       "      <td>21656.64142</td>\n",
       "      <td>...</td>\n",
       "      <td>0.683641</td>\n",
       "      <td>1.025412</td>\n",
       "      <td>0.626456</td>\n",
       "      <td>11786.650460</td>\n",
       "      <td>5.459075</td>\n",
       "      <td>0.658993</td>\n",
       "      <td>0.988445</td>\n",
       "      <td>0.617495</td>\n",
       "      <td>11584.92863</td>\n",
       "      <td>4.928687</td>\n",
       "    </tr>\n",
       "    <tr>\n",
       "      <th>52</th>\n",
       "      <td>214</td>\n",
       "      <td>0.780903</td>\n",
       "      <td>1.171305</td>\n",
       "      <td>0.690097</td>\n",
       "      <td>15093.28902</td>\n",
       "      <td>9.031314</td>\n",
       "      <td>0.738434</td>\n",
       "      <td>1.107625</td>\n",
       "      <td>0.709253</td>\n",
       "      <td>25493.51936</td>\n",
       "      <td>...</td>\n",
       "      <td>0.687456</td>\n",
       "      <td>1.031124</td>\n",
       "      <td>0.655161</td>\n",
       "      <td>9431.856566</td>\n",
       "      <td>5.534781</td>\n",
       "      <td>0.689673</td>\n",
       "      <td>1.034461</td>\n",
       "      <td>0.654742</td>\n",
       "      <td>11536.11861</td>\n",
       "      <td>5.528516</td>\n",
       "    </tr>\n",
       "    <tr>\n",
       "      <th>112</th>\n",
       "      <td>63</td>\n",
       "      <td>0.821538</td>\n",
       "      <td>1.232262</td>\n",
       "      <td>0.682232</td>\n",
       "      <td>18581.87596</td>\n",
       "      <td>11.057998</td>\n",
       "      <td>0.796382</td>\n",
       "      <td>1.194549</td>\n",
       "      <td>0.711331</td>\n",
       "      <td>34253.45207</td>\n",
       "      <td>...</td>\n",
       "      <td>0.746678</td>\n",
       "      <td>1.119972</td>\n",
       "      <td>0.652294</td>\n",
       "      <td>16195.476820</td>\n",
       "      <td>7.210825</td>\n",
       "      <td>0.686715</td>\n",
       "      <td>1.030031</td>\n",
       "      <td>0.623842</td>\n",
       "      <td>13349.71235</td>\n",
       "      <td>5.484879</td>\n",
       "    </tr>\n",
       "    <tr>\n",
       "      <th>122</th>\n",
       "      <td>73</td>\n",
       "      <td>0.806878</td>\n",
       "      <td>1.210271</td>\n",
       "      <td>0.688115</td>\n",
       "      <td>17263.46721</td>\n",
       "      <td>10.170591</td>\n",
       "      <td>0.751751</td>\n",
       "      <td>1.127599</td>\n",
       "      <td>0.699976</td>\n",
       "      <td>25997.41902</td>\n",
       "      <td>...</td>\n",
       "      <td>0.707443</td>\n",
       "      <td>1.061117</td>\n",
       "      <td>0.639093</td>\n",
       "      <td>12995.393990</td>\n",
       "      <td>6.070392</td>\n",
       "      <td>0.678223</td>\n",
       "      <td>1.017293</td>\n",
       "      <td>0.623547</td>\n",
       "      <td>13112.05762</td>\n",
       "      <td>5.327960</td>\n",
       "    </tr>\n",
       "  </tbody>\n",
       "</table>\n",
       "<p>5 rows × 21 columns</p>\n",
       "</div>"
      ],
      "text/plain": [
       "     trat  NDVI_d28  SAVI_d28  GNDVI_d28   MCARI1_d28     SR_d28  NDVI_d01  \\\n",
       "0     102  0.798284  1.197380   0.692652  16710.29721   9.728142  0.729767   \n",
       "127    82  0.750210  1.125268   0.644542  14328.38849   7.591731  0.707780   \n",
       "52    214  0.780903  1.171305   0.690097  15093.28902   9.031314  0.738434   \n",
       "112    63  0.821538  1.232262   0.682232  18581.87596  11.057998  0.796382   \n",
       "122    73  0.806878  1.210271   0.688115  17263.46721  10.170591  0.751751   \n",
       "\n",
       "     SAVI_d01  GNDVI_d01   MCARI1_d01  ...  NDVI_d04  SAVI_d04  GNDVI_d04  \\\n",
       "0    1.094620   0.698726  21499.94698  ...  0.713179  1.069718   0.662425   \n",
       "127  1.061642   0.668688  21656.64142  ...  0.683641  1.025412   0.626456   \n",
       "52   1.107625   0.709253  25493.51936  ...  0.687456  1.031124   0.655161   \n",
       "112  1.194549   0.711331  34253.45207  ...  0.746678  1.119972   0.652294   \n",
       "122  1.127599   0.699976  25997.41902  ...  0.707443  1.061117   0.639093   \n",
       "\n",
       "       MCARI1_d04    SR_d04  NDVI_d08  SAVI_d08  GNDVI_d08   MCARI1_d08  \\\n",
       "0    13090.114590  6.216968  0.684125  1.026146   0.636865  13352.81776   \n",
       "127  11786.650460  5.459075  0.658993  0.988445   0.617495  11584.92863   \n",
       "52    9431.856566  5.534781  0.689673  1.034461   0.654742  11536.11861   \n",
       "112  16195.476820  7.210825  0.686715  1.030031   0.623842  13349.71235   \n",
       "122  12995.393990  6.070392  0.678223  1.017293   0.623547  13112.05762   \n",
       "\n",
       "       SR_d08  \n",
       "0    5.421333  \n",
       "127  4.928687  \n",
       "52   5.528516  \n",
       "112  5.484879  \n",
       "122  5.327960  \n",
       "\n",
       "[5 rows x 21 columns]"
      ]
     },
     "execution_count": 68,
     "metadata": {},
     "output_type": "execute_result"
    }
   ],
   "source": [
    "entradas_treino.head()"
   ]
  },
  {
   "cell_type": "code",
   "execution_count": 69,
   "id": "419ec92f",
   "metadata": {},
   "outputs": [
    {
     "data": {
      "text/plain": [
       "0      1\n",
       "127    1\n",
       "52     1\n",
       "112    1\n",
       "122    1\n",
       "Name: Classe, dtype: int64"
      ]
     },
     "execution_count": 69,
     "metadata": {},
     "output_type": "execute_result"
    }
   ],
   "source": [
    "classes_treino.head()"
   ]
  },
  {
   "cell_type": "markdown",
   "id": "19341e41",
   "metadata": {},
   "source": [
    "# Chegou a hora de aplicar o modelo preditivo"
   ]
  },
  {
   "cell_type": "markdown",
   "id": "469409c1",
   "metadata": {},
   "source": [
    "Escolhemos a função KNeighborsClassifier onde devemos dizer explicitamente ao classificador para usar a distância euclidiana para determinar a proximidade entre pontos vizinhos"
   ]
  },
  {
   "cell_type": "code",
   "execution_count": 73,
   "id": "4f58c890",
   "metadata": {},
   "outputs": [
    {
     "data": {
      "text/plain": [
       "KNeighborsClassifier()"
      ]
     },
     "execution_count": 73,
     "metadata": {},
     "output_type": "execute_result"
    }
   ],
   "source": [
    "# Importa a biblioteca\n",
    "from sklearn.neighbors import KNeighborsClassifier\n",
    "\n",
    "# Cria o classificar KNN\n",
    "k = 5\n",
    "modelo = KNeighborsClassifier(n_neighbors=k)\n",
    "\n",
    "# Cria o modelo de machine learning\n",
    "modelo.fit(entradas_treino, classes_treino)"
   ]
  },
  {
   "cell_type": "code",
   "execution_count": 74,
   "id": "56742c19",
   "metadata": {},
   "outputs": [
    {
     "name": "stdout",
     "output_type": "stream",
     "text": [
      "Predição: [1 0 1 0 1 0 1 1 0 1 1 0 0 0 1 1 1 1 1 0 0 0 1 0 1 1 1]\n"
     ]
    }
   ],
   "source": [
    "# Para obter as previsões, basta chamar o método predict()\n",
    "classes_encontradas = modelo.predict(entradas_teste)\n",
    "print(\"Predição: {}\".format(classes_encontradas))"
   ]
  },
  {
   "cell_type": "code",
   "execution_count": 75,
   "id": "3df4a0e5",
   "metadata": {},
   "outputs": [
    {
     "name": "stdout",
     "output_type": "stream",
     "text": [
      "Acerto médio de classificação:  0.9629629629629629\n"
     ]
    }
   ],
   "source": [
    "# Para determinar a quantidade de acertos (acuracia)\n",
    "\n",
    "from sklearn.metrics import accuracy_score\n",
    "\n",
    "acertos = accuracy_score(classes_teste, classes_encontradas)\n",
    "print(\"Acerto médio de classificação: \", acertos)"
   ]
  },
  {
   "cell_type": "markdown",
   "id": "e2fc78ac",
   "metadata": {},
   "source": [
    "# Visualizando o modelo de forma gráfica"
   ]
  },
  {
   "cell_type": "markdown",
   "id": "0959bf7a",
   "metadata": {},
   "source": [
    "Com o campo train conseguimos visualizar da melhor maneira os"
   ]
  },
  {
   "cell_type": "code",
   "execution_count": 28,
   "id": "3b198b23",
   "metadata": {},
   "outputs": [],
   "source": [
    "# Unificamos os dados de entrada e as classes de treino e teste em um daframe cada\n",
    "df_treino = pd.concat((entradas_treino, classes_treino), axis=1)\n",
    "\n",
    "novas_classes = pd.Series(classes_encontradas, name=\"Classe\", index=entradas_teste.index)\n",
    "df_teste = pd.concat((entradas_teste, novas_classes), axis=1)"
   ]
  },
  {
   "cell_type": "code",
   "execution_count": 29,
   "id": "5718f777",
   "metadata": {},
   "outputs": [
    {
     "name": "stderr",
     "output_type": "stream",
     "text": [
      "c:\\users\\guhda\\appdata\\local\\programs\\python\\python38\\lib\\site-packages\\seaborn\\_decorators.py:36: FutureWarning: Pass the following variables as keyword args: x, y. From version 0.12, the only valid positional argument will be `data`, and passing other arguments without an explicit keyword will result in an error or misinterpretation.\n",
      "  warnings.warn(\n"
     ]
    },
    {
     "data": {
      "image/png": "[encoded data removed]",
      "text/plain": [
       "<Figure size 432x288 with 1 Axes>"
      ]
     },
     "metadata": {
      "needs_background": "light"
     },
     "output_type": "display_data"
    }
   ],
   "source": [
    "import seaborn as sns\n",
    "## Unificamos os dataframes de treinamento e teste em um novo DataFrame\n",
    "# indicando a origem dos dados\n",
    "novo_df = pd.concat((df_treino, df_teste), keys=['train', 'test'])\n",
    "novo_df['origin'] = ''\n",
    "novo_df.loc['train','origin'] = 'Treino'\n",
    "novo_df.loc['test','origin'] = 'Teste'\n",
    "\n",
    "# Usamos o scatterplot do seaborn, informando mudando o marcador de acordo com a origem do dado\n",
    "sns.scatterplot('trat', 'Classe', \n",
    "                hue='Classe', style='origin', data=novo_df)\n",
    "\n",
    "plt.show()"
   ]
  },
  {
   "cell_type": "code",
   "execution_count": 30,
   "id": "30edbbd7",
   "metadata": {},
   "outputs": [
    {
     "data": {
      "image/png": "[encoded data removed]",
      "text/plain": [
       "<Figure size 432x288 with 1 Axes>"
      ]
     },
     "metadata": {
      "needs_background": "light"
     },
     "output_type": "display_data"
    }
   ],
   "source": [
    "# loop for para diferntes k\n",
    "k_range = list(range(1,26))\n",
    "acertos = []\n",
    "for k in k_range:\n",
    "    modelo = KNeighborsClassifier(n_neighbors=k)\n",
    "    modelo.fit(entradas_treino, classes_treino)\n",
    "    classes_encontradas = modelo.predict(entradas_teste)\n",
    "    acertos.append(accuracy_score(classes_teste, classes_encontradas))\n",
    "  \n",
    "  \n",
    "plt.plot(k_range, acertos)\n",
    "plt.xlabel('Valor de k do KNN')\n",
    "plt.ylabel('Taxa de acertos')\n",
    "plt.title('Taxa de acertos x valor de k do KNN')\n",
    "plt.show()"
   ]
  },
  {
   "cell_type": "code",
   "execution_count": null,
   "id": "45520e9f",
   "metadata": {},
   "outputs": [],
   "source": []
  }
 ],
 "metadata": {
  "kernelspec": {
   "display_name": "Python 3 (ipykernel)",
   "language": "python",
   "name": "python3"
  },
  "language_info": {
   "codemirror_mode": {
    "name": "ipython",
    "version": 3
   },
   "file_extension": ".py",
   "mimetype": "text/x-python",
   "name": "python",
   "nbconvert_exporter": "python",
   "pygments_lexer": "ipython3",
   "version": "3.8.2"
  }
 },
 "nbformat": 4,
 "nbformat_minor": 5
}
